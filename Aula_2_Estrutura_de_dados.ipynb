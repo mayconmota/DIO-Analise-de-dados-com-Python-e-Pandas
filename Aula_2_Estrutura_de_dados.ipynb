{
  "nbformat": 4,
  "nbformat_minor": 0,
  "metadata": {
    "colab": {
      "name": "Aula_2_Estrutura_de_dados.ipynb",
      "provenance": [],
      "authorship_tag": "ABX9TyNIFYNOGwJupWR5cYLqzFvP",
      "include_colab_link": true
    },
    "kernelspec": {
      "name": "python3",
      "display_name": "Python 3"
    },
    "language_info": {
      "name": "python"
    }
  },
  "cells": [
    {
      "cell_type": "markdown",
      "metadata": {
        "id": "view-in-github",
        "colab_type": "text"
      },
      "source": [
        "<a href=\"https://colab.research.google.com/github/mayconmota/DIO-Analise-de-dados-com-Python-e-Pandas/blob/main/Aula_2_Estrutura_de_dados.ipynb\" target=\"_parent\"><img src=\"https://colab.research.google.com/assets/colab-badge.svg\" alt=\"Open In Colab\"/></a>"
      ]
    },
    {
      "cell_type": "markdown",
      "metadata": {
        "id": "G6HbfR862xaX"
      },
      "source": [
        "**LISTAS**"
      ]
    },
    {
      "cell_type": "code",
      "metadata": {
        "colab": {
          "base_uri": "https://localhost:8080/"
        },
        "id": "FcdlC_XCzufc",
        "outputId": "9cc3b0ca-6abb-4f86-ab8c-440c3f50cc42"
      },
      "source": [
        "#Criando uma lista chamada animais\n",
        "animais = [1,2,3]\n",
        "animais"
      ],
      "execution_count": null,
      "outputs": [
        {
          "output_type": "execute_result",
          "data": {
            "text/plain": [
              "[1, 2, 3]"
            ]
          },
          "metadata": {},
          "execution_count": 1
        }
      ]
    },
    {
      "cell_type": "code",
      "metadata": {
        "colab": {
          "base_uri": "https://localhost:8080/"
        },
        "id": "9cmomQkA0C3t",
        "outputId": "36ce22ad-3d85-4793-9e6a-9bf5ea79319d"
      },
      "source": [
        "animais = [\"cachorro\",\"gato\",12345,6.5]\n",
        "animais"
      ],
      "execution_count": null,
      "outputs": [
        {
          "output_type": "execute_result",
          "data": {
            "text/plain": [
              "['cachorro', 'gato', 12345, 6.5]"
            ]
          },
          "metadata": {},
          "execution_count": 5
        }
      ]
    },
    {
      "cell_type": "code",
      "metadata": {
        "colab": {
          "base_uri": "https://localhost:8080/",
          "height": 35
        },
        "id": "pjhUA3Ec0Lgt",
        "outputId": "6b72f9bc-9fce-42c3-bb10-21c0f117ce16"
      },
      "source": [
        "#Imprimindo o primeiro elemento da lista\n",
        "animais[0]"
      ],
      "execution_count": null,
      "outputs": [
        {
          "output_type": "execute_result",
          "data": {
            "application/vnd.google.colaboratory.intrinsic+json": {
              "type": "string"
            },
            "text/plain": [
              "'cachorro'"
            ]
          },
          "metadata": {},
          "execution_count": 3
        }
      ]
    },
    {
      "cell_type": "code",
      "metadata": {
        "colab": {
          "base_uri": "https://localhost:8080/"
        },
        "id": "NPgjiv7K0SWu",
        "outputId": "978ef0ea-1542-4bd6-b4db-44f40d07a892"
      },
      "source": [
        "#Imprimido o 4 elemento da lista\n",
        "animais[3]"
      ],
      "execution_count": null,
      "outputs": [
        {
          "output_type": "execute_result",
          "data": {
            "text/plain": [
              "6.5"
            ]
          },
          "metadata": {},
          "execution_count": 6
        }
      ]
    },
    {
      "cell_type": "code",
      "metadata": {
        "id": "XOmEgFEQ0YJR"
      },
      "source": [
        "#Substituindo o primeiro elemento da lista\n",
        "animais[0] = \"papagaio\""
      ],
      "execution_count": null,
      "outputs": []
    },
    {
      "cell_type": "code",
      "metadata": {
        "colab": {
          "base_uri": "https://localhost:8080/"
        },
        "id": "ZVKCHuEE0ic2",
        "outputId": "ddfe06d3-89c6-42ef-fe28-e1440e79607d"
      },
      "source": [
        "animais"
      ],
      "execution_count": null,
      "outputs": [
        {
          "output_type": "execute_result",
          "data": {
            "text/plain": [
              "['papagaio', 'gato', 12345, 6.5]"
            ]
          },
          "metadata": {},
          "execution_count": 8
        }
      ]
    },
    {
      "cell_type": "code",
      "metadata": {
        "id": "HKlA2NLn0jxw"
      },
      "source": [
        "#Removendo gato da lista\n",
        "animais.remove(\"gato\")"
      ],
      "execution_count": null,
      "outputs": []
    },
    {
      "cell_type": "code",
      "metadata": {
        "colab": {
          "base_uri": "https://localhost:8080/"
        },
        "id": "1xjuGbVm0xJi",
        "outputId": "5515d68f-7c53-4708-c93b-e963f40d6ed9"
      },
      "source": [
        "animais"
      ],
      "execution_count": null,
      "outputs": [
        {
          "output_type": "execute_result",
          "data": {
            "text/plain": [
              "['papagaio', 12345, 6.5]"
            ]
          },
          "metadata": {},
          "execution_count": 10
        }
      ]
    },
    {
      "cell_type": "code",
      "metadata": {
        "colab": {
          "base_uri": "https://localhost:8080/"
        },
        "id": "fdReRN9Z0x8w",
        "outputId": "fae64b5e-24aa-4df4-f1c3-9228bc0d86d9"
      },
      "source": [
        "#Verificando o tamanho (quantidade de elementos) de uma lista\n",
        "len(animais)"
      ],
      "execution_count": null,
      "outputs": [
        {
          "output_type": "execute_result",
          "data": {
            "text/plain": [
              "3"
            ]
          },
          "metadata": {},
          "execution_count": 11
        }
      ]
    },
    {
      "cell_type": "code",
      "metadata": {
        "colab": {
          "base_uri": "https://localhost:8080/"
        },
        "id": "U4Gmk8TT064b",
        "outputId": "b8e35312-5b27-41b8-9049-4cb2e3a2e0b5"
      },
      "source": [
        "#Buscando a string \"gato\" na lista\n",
        "\"gato\" in animais"
      ],
      "execution_count": null,
      "outputs": [
        {
          "output_type": "execute_result",
          "data": {
            "text/plain": [
              "False"
            ]
          },
          "metadata": {},
          "execution_count": 12
        }
      ]
    },
    {
      "cell_type": "code",
      "metadata": {
        "id": "6hFXTAKq1EfS"
      },
      "source": [
        "#Atribuindo valores a lista\n",
        "lista = [500,30,300,80,10]"
      ],
      "execution_count": null,
      "outputs": []
    },
    {
      "cell_type": "code",
      "metadata": {
        "colab": {
          "base_uri": "https://localhost:8080/"
        },
        "id": "g1YTGGpR1OXR",
        "outputId": "cd75f3a8-1ce6-4e0a-e384-7ee076e4b779"
      },
      "source": [
        "#Exibindo o valor míximo da lista\n",
        "max(lista)"
      ],
      "execution_count": null,
      "outputs": [
        {
          "output_type": "execute_result",
          "data": {
            "text/plain": [
              "500"
            ]
          },
          "metadata": {},
          "execution_count": 15
        }
      ]
    },
    {
      "cell_type": "code",
      "metadata": {
        "colab": {
          "base_uri": "https://localhost:8080/"
        },
        "id": "rOqkPSu61ZvT",
        "outputId": "e3c9332b-eab5-40ed-da2e-37c2e59f7fc3"
      },
      "source": [
        "#Exibindo o valor mínimo da lista\n",
        "min(lista)"
      ],
      "execution_count": null,
      "outputs": [
        {
          "output_type": "execute_result",
          "data": {
            "text/plain": [
              "10"
            ]
          },
          "metadata": {},
          "execution_count": 16
        }
      ]
    },
    {
      "cell_type": "code",
      "metadata": {
        "id": "T120V2GD1bdD"
      },
      "source": [
        "#Acrescentando um elemento na lista\n",
        "animais.append(\"leão\")"
      ],
      "execution_count": null,
      "outputs": []
    },
    {
      "cell_type": "code",
      "metadata": {
        "colab": {
          "base_uri": "https://localhost:8080/"
        },
        "id": "WoBhvOqc1gdK",
        "outputId": "b7e3a788-e0cf-4168-e39a-71306989448a"
      },
      "source": [
        "animais"
      ],
      "execution_count": null,
      "outputs": [
        {
          "output_type": "execute_result",
          "data": {
            "text/plain": [
              "['papagaio', 12345, 6.5, 'leão']"
            ]
          },
          "metadata": {},
          "execution_count": 18
        }
      ]
    },
    {
      "cell_type": "code",
      "metadata": {
        "id": "HV7SM7P21hRc"
      },
      "source": [
        "#Adicionando mais de um elemento a lista\n",
        "animais.extend([\"cobra\",6])"
      ],
      "execution_count": null,
      "outputs": []
    },
    {
      "cell_type": "code",
      "metadata": {
        "colab": {
          "base_uri": "https://localhost:8080/"
        },
        "id": "L9Gc8ei82VhQ",
        "outputId": "c34afbd4-6edb-423d-8f72-bbc7279f6264"
      },
      "source": [
        "animais"
      ],
      "execution_count": null,
      "outputs": [
        {
          "output_type": "execute_result",
          "data": {
            "text/plain": [
              "['papagaio', 12345, 6.5, 'leão', 'cobra', 6]"
            ]
          },
          "metadata": {},
          "execution_count": 21
        }
      ]
    },
    {
      "cell_type": "code",
      "metadata": {
        "colab": {
          "base_uri": "https://localhost:8080/"
        },
        "id": "kBdRxx-62HGn",
        "outputId": "7fbd5962-8fc5-4ded-abfa-a2273c9f9766"
      },
      "source": [
        "#Buscando a quantidade de incidências da string \"cachorro\" na lista\n",
        "animais.count(\"cachorro\")"
      ],
      "execution_count": null,
      "outputs": [
        {
          "output_type": "execute_result",
          "data": {
            "text/plain": [
              "0"
            ]
          },
          "metadata": {},
          "execution_count": 20
        }
      ]
    },
    {
      "cell_type": "code",
      "metadata": {
        "id": "YBIq77jD2KKy"
      },
      "source": [
        "#Ordenando a lista de forma crescente\n",
        "lista.sort()"
      ],
      "execution_count": null,
      "outputs": []
    },
    {
      "cell_type": "code",
      "metadata": {
        "colab": {
          "base_uri": "https://localhost:8080/"
        },
        "id": "u5P2UzZt2qna",
        "outputId": "a2406ec5-d8be-4d36-ecf7-ba9d24ed9ef0"
      },
      "source": [
        "lista"
      ],
      "execution_count": null,
      "outputs": [
        {
          "output_type": "execute_result",
          "data": {
            "text/plain": [
              "[10, 30, 80, 300, 500]"
            ]
          },
          "metadata": {},
          "execution_count": 23
        }
      ]
    },
    {
      "cell_type": "markdown",
      "metadata": {
        "id": "yP0NLpqw3Fb6"
      },
      "source": [
        "**TUPLAS**"
      ]
    },
    {
      "cell_type": "code",
      "metadata": {
        "id": "ubS_rz732sUF"
      },
      "source": [
        "#As tuplas usam parênteses como sintaxe\n",
        "tp = (\"Banana\", \"Maçã\", 10, 50)"
      ],
      "execution_count": 1,
      "outputs": []
    },
    {
      "cell_type": "code",
      "metadata": {
        "colab": {
          "base_uri": "https://localhost:8080/",
          "height": 35
        },
        "id": "g5PyV8ei3UJe",
        "outputId": "2f9978cb-ddd4-4333-eabf-bcb5a2e78e97"
      },
      "source": [
        "#Retornando o primeiro elemento da tupla\n",
        "tp[0]"
      ],
      "execution_count": 2,
      "outputs": [
        {
          "output_type": "execute_result",
          "data": {
            "application/vnd.google.colaboratory.intrinsic+json": {
              "type": "string"
            },
            "text/plain": [
              "'Banana'"
            ]
          },
          "metadata": {},
          "execution_count": 2
        }
      ]
    },
    {
      "cell_type": "code",
      "metadata": {
        "colab": {
          "base_uri": "https://localhost:8080/",
          "height": 197
        },
        "id": "9NCmeYIh3ZyL",
        "outputId": "7ee93afa-cc95-4113-beb7-cfbdfe4f5dd4"
      },
      "source": [
        "#Diferente das listas, as tuplas são imutáveis, não sendo possível alterar seus elementos, resultando em erro.\n",
        "tp[0] = \"Laranja\""
      ],
      "execution_count": null,
      "outputs": [
        {
          "output_type": "error",
          "ename": "TypeError",
          "evalue": "ignored",
          "traceback": [
            "\u001b[0;31m---------------------------------------------------------------------------\u001b[0m",
            "\u001b[0;31mTypeError\u001b[0m                                 Traceback (most recent call last)",
            "\u001b[0;32m<ipython-input-26-dbcf7c347281>\u001b[0m in \u001b[0;36m<module>\u001b[0;34m()\u001b[0m\n\u001b[1;32m      1\u001b[0m \u001b[0;31m#Diferente das listas, as tuplas são imutáveis, não sendo possível alterar seus elementos\u001b[0m\u001b[0;34m\u001b[0m\u001b[0;34m\u001b[0m\u001b[0;34m\u001b[0m\u001b[0m\n\u001b[0;32m----> 2\u001b[0;31m \u001b[0mtp\u001b[0m\u001b[0;34m[\u001b[0m\u001b[0;36m0\u001b[0m\u001b[0;34m]\u001b[0m \u001b[0;34m=\u001b[0m \u001b[0;34m\"Laranja\"\u001b[0m\u001b[0;34m\u001b[0m\u001b[0;34m\u001b[0m\u001b[0m\n\u001b[0m",
            "\u001b[0;31mTypeError\u001b[0m: 'tuple' object does not support item assignment"
          ]
        }
      ]
    },
    {
      "cell_type": "code",
      "metadata": {
        "colab": {
          "base_uri": "https://localhost:8080/"
        },
        "id": "vQnL4Ggx3mIs",
        "outputId": "53d244fa-4cae-40d7-a698-ca664bdfc8b2"
      },
      "source": [
        "#Verificando a quantidade de incidências da string \"Maçã\"\n",
        "tp.count(\"Maçã\")"
      ],
      "execution_count": null,
      "outputs": [
        {
          "output_type": "execute_result",
          "data": {
            "text/plain": [
              "1"
            ]
          },
          "metadata": {},
          "execution_count": 28
        }
      ]
    },
    {
      "cell_type": "code",
      "metadata": {
        "colab": {
          "base_uri": "https://localhost:8080/"
        },
        "id": "4avUfBlz3thu",
        "outputId": "77e19c11-d3f2-4d37-ea1c-11bd372fb2f5"
      },
      "source": [
        "#Exibindo os elementos relacionados aos índices da tupla\n",
        "tp[0:2]"
      ],
      "execution_count": null,
      "outputs": [
        {
          "output_type": "execute_result",
          "data": {
            "text/plain": [
              "('Banana', 'Maçã')"
            ]
          },
          "metadata": {},
          "execution_count": 29
        }
      ]
    },
    {
      "cell_type": "markdown",
      "metadata": {
        "id": "OXhJEZ4E4Mme"
      },
      "source": [
        "**DICIONÁRIOS**"
      ]
    },
    {
      "cell_type": "code",
      "metadata": {
        "id": "jb4qXds639_Q"
      },
      "source": [
        "#Para criar um dicionário utilizamos as {}\n",
        "#Dicionários trabalham com o conceito de chave e valor\n",
        "dc = {\"Maçã\":20,\"Banana\":10,\"Laranja\":15,\"Uva\":5}"
      ],
      "execution_count": null,
      "outputs": []
    },
    {
      "cell_type": "code",
      "metadata": {
        "colab": {
          "base_uri": "https://localhost:8080/"
        },
        "id": "SvsY93Ts4nQ4",
        "outputId": "2784ce2e-e973-4ea9-f888-923a554e3c3f"
      },
      "source": [
        "dc"
      ],
      "execution_count": null,
      "outputs": [
        {
          "output_type": "execute_result",
          "data": {
            "text/plain": [
              "{'Banana': 10, 'Laranja': 15, 'Maçã': 20, 'Uva': 5}"
            ]
          },
          "metadata": {},
          "execution_count": 31
        }
      ]
    },
    {
      "cell_type": "code",
      "metadata": {
        "colab": {
          "base_uri": "https://localhost:8080/"
        },
        "id": "nzOEN9VV4n71",
        "outputId": "60609fd5-2260-4049-f3d7-7bca720e7dbc"
      },
      "source": [
        "#Acessando o valor de um dicionário através da chave\n",
        "dc[\"Maçã\"]"
      ],
      "execution_count": null,
      "outputs": [
        {
          "output_type": "execute_result",
          "data": {
            "text/plain": [
              "20"
            ]
          },
          "metadata": {},
          "execution_count": 32
        }
      ]
    },
    {
      "cell_type": "code",
      "metadata": {
        "colab": {
          "base_uri": "https://localhost:8080/"
        },
        "id": "92Yay9Hv4wNB",
        "outputId": "2c646c22-4369-427f-baa8-6eed893fbcc8"
      },
      "source": [
        "#Atualizando o valor da Maçã\n",
        "dc[\"Maçã\"] = 25\n",
        "dc"
      ],
      "execution_count": null,
      "outputs": [
        {
          "output_type": "execute_result",
          "data": {
            "text/plain": [
              "{'Banana': 10, 'Laranja': 15, 'Maçã': 25, 'Uva': 5}"
            ]
          },
          "metadata": {},
          "execution_count": 33
        }
      ]
    },
    {
      "cell_type": "code",
      "metadata": {
        "colab": {
          "base_uri": "https://localhost:8080/"
        },
        "id": "Xob31VH-44lg",
        "outputId": "3f37c773-b957-44d0-edf3-5b00aa82a8b5"
      },
      "source": [
        "#Retornando todas as chaves do dicionário\n",
        "dc.keys()"
      ],
      "execution_count": null,
      "outputs": [
        {
          "output_type": "execute_result",
          "data": {
            "text/plain": [
              "dict_keys(['Maçã', 'Banana', 'Laranja', 'Uva'])"
            ]
          },
          "metadata": {},
          "execution_count": 34
        }
      ]
    },
    {
      "cell_type": "code",
      "metadata": {
        "colab": {
          "base_uri": "https://localhost:8080/"
        },
        "id": "5Rybn4Wj4-9g",
        "outputId": "c441b354-adde-491c-93f7-88995559013a"
      },
      "source": [
        "#Retornando os valores do dicionário\n",
        "dc.values()"
      ],
      "execution_count": null,
      "outputs": [
        {
          "output_type": "execute_result",
          "data": {
            "text/plain": [
              "dict_values([25, 10, 15, 5])"
            ]
          },
          "metadata": {},
          "execution_count": 35
        }
      ]
    },
    {
      "cell_type": "code",
      "metadata": {
        "colab": {
          "base_uri": "https://localhost:8080/"
        },
        "id": "1DG2zvil5EJy",
        "outputId": "0d6da0bd-b6d2-45a7-c465-24d3dc064f46"
      },
      "source": [
        "#Verificando se já existe uma chave no dicionário, e caso não exista, inserir\n",
        "dc.setdefault(\"Limão\",22)"
      ],
      "execution_count": null,
      "outputs": [
        {
          "output_type": "execute_result",
          "data": {
            "text/plain": [
              "22"
            ]
          },
          "metadata": {},
          "execution_count": 36
        }
      ]
    },
    {
      "cell_type": "code",
      "metadata": {
        "id": "GTFgJXnd5Uo0",
        "colab": {
          "base_uri": "https://localhost:8080/"
        },
        "outputId": "a05b529b-b598-4847-d938-45f364a2fb3e"
      },
      "source": [
        "dc"
      ],
      "execution_count": null,
      "outputs": [
        {
          "output_type": "execute_result",
          "data": {
            "text/plain": [
              "{'Banana': 10, 'Laranja': 15, 'Limão': 22, 'Maçã': 25, 'Uva': 5}"
            ]
          },
          "metadata": {},
          "execution_count": 37
        }
      ]
    },
    {
      "cell_type": "code",
      "metadata": {
        "id": "nBNNP1EO5VZ7"
      },
      "source": [
        ""
      ],
      "execution_count": null,
      "outputs": []
    }
  ]
}